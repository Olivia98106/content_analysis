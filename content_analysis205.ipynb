{
 "cells": [
  {
   "cell_type": "code",
   "execution_count": 1,
   "metadata": {},
   "outputs": [],
   "source": [
    "import pandas as pd\n",
    "import numpy as np\n",
    "from scipy import stats\n",
    "from collections import Counter\n",
    "import matplotlib.pyplot as plt\n",
    "import seaborn as sns\n",
    "from wordcloud import WordCloud\n",
    "import matplotlib.font_manager as fontm\n",
    "%matplotlib inline"
   ]
  },
  {
   "cell_type": "code",
   "execution_count": 2,
   "metadata": {},
   "outputs": [],
   "source": [
    "import scipy.stats\n",
    "import random"
   ]
  },
  {
   "cell_type": "code",
   "execution_count": 104,
   "metadata": {},
   "outputs": [],
   "source": [
    "df= pd.read_csv('news205.csv')"
   ]
  },
  {
   "cell_type": "code",
   "execution_count": 105,
   "metadata": {},
   "outputs": [],
   "source": [
    "ls = ['info_source','news_source','identity','single_story','tone','home','frame','cons']\n",
    "info = list(df.columns)[3:10]\n",
    "news = list(df.columns)[10:14]\n",
    "identity = list(df.columns)[14:22]\n",
    "single =list(df.columns)[22:24]\n",
    "tone =list(df.columns)[24:27]\n",
    "home = list(df.columns)[27:29]\n",
    "frame1 = list(df.columns)[29:31]\n",
    "frame2 = list(df.columns)[31:37]\n",
    "cons=list(df.columns)[37:41]"
   ]
  },
  {
   "cell_type": "code",
   "execution_count": 106,
   "metadata": {},
   "outputs": [
    {
     "name": "stdout",
     "output_type": "stream",
     "text": [
      "(111, 43) (94, 43)\n"
     ]
    }
   ],
   "source": [
    "df['cons_01']=0\n",
    "for i in cons:\n",
    "    df['cons_01']= df[i]+df['cons_01']\n",
    "cons_news_df = df[df['cons_01'].isin([1,2,3,4])]\n",
    "noncons_news_df = df[df['cons_01'].isin([0])]\n",
    "print(cons_news_df.shape,noncons_news_df.shape)"
   ]
  },
  {
   "cell_type": "code",
   "execution_count": 108,
   "metadata": {},
   "outputs": [],
   "source": [
    "d = {0:0,1:1,2:1,3:1,4:1}\n",
    "df['ncn']=df['cons_01'].map(d)"
   ]
  },
  {
   "cell_type": "code",
   "execution_count": 107,
   "metadata": {},
   "outputs": [
    {
     "name": "stdout",
     "output_type": "stream",
     "text": [
      "建设性新闻-是否采取解决问题导向（如疫苗研制、政府援助、介绍社会各界的帮助和反应）101.0\n",
      "建设性新闻-是否强调公民赋权（如提供信息动员群众，为国家抗疫做贡献）9.0\n",
      "是否存在榜样/英雄叙事？（如疫情期间的小区送菜志愿者）29.0\n",
      "建设性新闻-是否出现未来导向（如，何时解除封城、未来疫情常态化）15.0\n"
     ]
    }
   ],
   "source": [
    "for i in cons:\n",
    "    print(i+str(sum(df[i])))"
   ]
  },
  {
   "cell_type": "code",
   "execution_count": 131,
   "metadata": {},
   "outputs": [],
   "source": [
    "#建设性新闻的词云，与非建设性新闻的差异\n",
    "origin1 = pd.read_csv('../sample1/shut_sample1.csv')\n",
    "origin2 = pd.read_csv('../sample2/shut_sample2.csv',lineterminator='\\n')\n",
    "origin3 = pd.read_csv('../sample3/shut_sample3.csv')\n",
    "\n",
    "origin=pd.concat([origin1,origin2,origin3])\n",
    "\n",
    "origin=origin[['index','date','comment_num']]\n"
   ]
  },
  {
   "cell_type": "code",
   "execution_count": 133,
   "metadata": {},
   "outputs": [],
   "source": [
    "cons_news_df = pd.merge(cons_news_df,origin,on=['index','date'],how='inner')\n",
    "noncons_news_df = pd.merge(noncons_news_df,origin,on=['index','date'],how='inner')"
   ]
  },
  {
   "cell_type": "code",
   "execution_count": 150,
   "metadata": {},
   "outputs": [
    {
     "name": "stdout",
     "output_type": "stream",
     "text": [
      "KstestResult(statistic=0.5, pvalue=5.917791553493453e-26)\n",
      "KstestResult(statistic=0.5, pvalue=1.736958121893621e-22)\n"
     ]
    }
   ],
   "source": [
    "#正态性检验\n",
    "a = np.array(cons_news_df['comment_num'].values)\n",
    "b = np.array(noncons_news_df['comment_num'].values)\n",
    "\n",
    "print(scipy.stats.kstest(a,'norm'))\n",
    "print(scipy.stats.kstest(b,'norm'))"
   ]
  },
  {
   "cell_type": "code",
   "execution_count": 153,
   "metadata": {},
   "outputs": [
    {
     "data": {
      "image/png": "[encoded data removed]",
      "text/plain": [
       "<Figure size 432x288 with 1 Axes>"
      ]
     },
     "metadata": {
      "needs_background": "light"
     },
     "output_type": "display_data"
    }
   ],
   "source": [
    "sns.set_palette(\"hls\")\n",
    "sns.distplot(a,color=\"r\",bins=1000,kde=True)\n",
    "plt.show()\n"
   ]
  },
  {
   "cell_type": "code",
   "execution_count": 154,
   "metadata": {},
   "outputs": [
    {
     "data": {
      "image/png": "[encoded data removed]",
      "text/plain": [
       "<Figure size 432x288 with 1 Axes>"
      ]
     },
     "metadata": {
      "needs_background": "light"
     },
     "output_type": "display_data"
    }
   ],
   "source": [
    "sns.set_palette(\"hls\")\n",
    "sns.distplot(b,color=\"r\",bins=1000,kde=True)\n",
    "plt.show()"
   ]
  },
  {
   "cell_type": "code",
   "execution_count": 157,
   "metadata": {},
   "outputs": [
    {
     "data": {
      "text/plain": [
       "LeveneResult(statistic=3.0021141786494083, pvalue=0.08467467101265148)"
      ]
     },
     "execution_count": 157,
     "metadata": {},
     "output_type": "execute_result"
    }
   ],
   "source": [
    "stats.levene(a,b)\n",
    "#不是正态分布，但方差齐性检验是齐方差 p>0.05"
   ]
  },
  {
   "cell_type": "code",
   "execution_count": 160,
   "metadata": {},
   "outputs": [
    {
     "data": {
      "text/plain": [
       "Ttest_indResult(statistic=-1.7072463733568841, pvalue=0.08930521476797934)"
      ]
     },
     "execution_count": 160,
     "metadata": {},
     "output_type": "execute_result"
    }
   ],
   "source": [
    "scipy.stats.ttest_ind(a,b, equal_var=True, nan_policy='propagate')\n",
    "#可以看到评论对于建设性和非建设性新闻的没有差异"
   ]
  },
  {
   "cell_type": "code",
   "execution_count": 161,
   "metadata": {},
   "outputs": [
    {
     "data": {
      "text/plain": [
       "True"
      ]
     },
     "execution_count": 161,
     "metadata": {},
     "output_type": "execute_result"
    }
   ],
   "source": [
    "cons_news_df.shape[0]+noncons_news_df.shape[0]==205"
   ]
  },
  {
   "cell_type": "code",
   "execution_count": 109,
   "metadata": {},
   "outputs": [],
   "source": [
    "frame1_news = pd.DataFrame(columns=frame1)\n",
    "for i in news:\n",
    "    data = df[df[i]==1]\n",
    "    tmp = []\n",
    "    for j in frame1:\n",
    "        n = data[data[j]==1].shape[0] \n",
    "        tmp.append(n)\n",
    "\n",
    "\n",
    "    frame1_news = frame1_news.reindex(index=list(frame1_news.index)+[i])\n",
    "    frame1_news.loc[i] = tmp\n",
    "        "
   ]
  },
  {
   "cell_type": "code",
   "execution_count": 110,
   "metadata": {},
   "outputs": [
    {
     "data": {
      "text/html": [
       "<div>\n",
       "<style scoped>\n",
       "    .dataframe tbody tr th:only-of-type {\n",
       "        vertical-align: middle;\n",
       "    }\n",
       "\n",
       "    .dataframe tbody tr th {\n",
       "        vertical-align: top;\n",
       "    }\n",
       "\n",
       "    .dataframe thead th {\n",
       "        text-align: right;\n",
       "    }\n",
       "</style>\n",
       "<table border=\"1\" class=\"dataframe\">\n",
       "  <thead>\n",
       "    <tr style=\"text-align: right;\">\n",
       "      <th></th>\n",
       "      <th>框架类型-情节框架（封城中的事件、故事和细节）</th>\n",
       "      <th>框架类型-议题框架</th>\n",
       "    </tr>\n",
       "  </thead>\n",
       "  <tbody>\n",
       "    <tr>\n",
       "      <th>新闻源-商业媒体（界面/财新）</th>\n",
       "      <td>23.0</td>\n",
       "      <td>27.0</td>\n",
       "    </tr>\n",
       "    <tr>\n",
       "      <th>新闻源-大型央媒（人民日报/新华社/央视/光明日报）</th>\n",
       "      <td>4.0</td>\n",
       "      <td>11.0</td>\n",
       "    </tr>\n",
       "    <tr>\n",
       "      <th>新闻源-其他报纸、电视和广播电台</th>\n",
       "      <td>17.0</td>\n",
       "      <td>20.0</td>\n",
       "    </tr>\n",
       "    <tr>\n",
       "      <th>新闻源-自媒体等其他网络媒体</th>\n",
       "      <td>29.0</td>\n",
       "      <td>74.0</td>\n",
       "    </tr>\n",
       "  </tbody>\n",
       "</table>\n",
       "</div>"
      ],
      "text/plain": [
       "                            框架类型-情节框架（封城中的事件、故事和细节）  框架类型-议题框架\n",
       "新闻源-商业媒体（界面/财新）                                23.0       27.0\n",
       "新闻源-大型央媒（人民日报/新华社/央视/光明日报）                      4.0       11.0\n",
       "新闻源-其他报纸、电视和广播电台                               17.0       20.0\n",
       "新闻源-自媒体等其他网络媒体                                 29.0       74.0"
      ]
     },
     "execution_count": 110,
     "metadata": {},
     "output_type": "execute_result"
    }
   ],
   "source": [
    "frame1_news"
   ]
  },
  {
   "cell_type": "code",
   "execution_count": 111,
   "metadata": {},
   "outputs": [
    {
     "name": "stdout",
     "output_type": "stream",
     "text": [
      "(1.0690789473684204, 0.30115358246198887, 1)\n"
     ]
    }
   ],
   "source": [
    "f_obs = np.array([frame1_news.iloc[0][:].values,frame1_news.iloc[1][:].values])\n",
    "\n",
    "np.set_printoptions(suppress=True)\n",
    "print(stats.chi2_contingency(f_obs)[0:3]) #not significant"
   ]
  },
  {
   "cell_type": "markdown",
   "metadata": {},
   "source": [
    "# info-cons"
   ]
  },
  {
   "cell_type": "code",
   "execution_count": 112,
   "metadata": {},
   "outputs": [],
   "source": [
    "info_cons = pd.DataFrame(columns=info)\n",
    "for i in cons:\n",
    "    data = df[df[i]==1]\n",
    "    tmp = []\n",
    "    for j in info:\n",
    "        n = data[data[j]==1].shape[0] \n",
    "        tmp.append(n)\n",
    "\n",
    "\n",
    "    info_cons = info_cons.reindex(index=list(info_cons.index)+[i])\n",
    "    info_cons.loc[i] = tmp"
   ]
  },
  {
   "cell_type": "code",
   "execution_count": 113,
   "metadata": {},
   "outputs": [
    {
     "data": {
      "text/html": [
       "<div>\n",
       "<style scoped>\n",
       "    .dataframe tbody tr th:only-of-type {\n",
       "        vertical-align: middle;\n",
       "    }\n",
       "\n",
       "    .dataframe tbody tr th {\n",
       "        vertical-align: top;\n",
       "    }\n",
       "\n",
       "    .dataframe thead th {\n",
       "        text-align: right;\n",
       "    }\n",
       "</style>\n",
       "<table border=\"1\" class=\"dataframe\">\n",
       "  <thead>\n",
       "    <tr style=\"text-align: right;\">\n",
       "      <th></th>\n",
       "      <th>消息源-政府部门及官员</th>\n",
       "      <th>消息源-专家学者</th>\n",
       "      <th>消息源-医护工作者</th>\n",
       "      <th>消息源-志愿者</th>\n",
       "      <th>消息源-企业</th>\n",
       "      <th>消息源-微博及网友</th>\n",
       "      <th>消息源-媒体</th>\n",
       "    </tr>\n",
       "  </thead>\n",
       "  <tbody>\n",
       "    <tr>\n",
       "      <th>建设性新闻-是否采取解决问题导向（如疫苗研制、政府援助、介绍社会各界的帮助和反应）</th>\n",
       "      <td>21.0</td>\n",
       "      <td>11.0</td>\n",
       "      <td>7.0</td>\n",
       "      <td>13.0</td>\n",
       "      <td>28.0</td>\n",
       "      <td>0.0</td>\n",
       "      <td>21.0</td>\n",
       "    </tr>\n",
       "    <tr>\n",
       "      <th>建设性新闻-是否强调公民赋权（如提供信息动员群众，为国家抗疫做贡献）</th>\n",
       "      <td>2.0</td>\n",
       "      <td>2.0</td>\n",
       "      <td>2.0</td>\n",
       "      <td>0.0</td>\n",
       "      <td>0.0</td>\n",
       "      <td>0.0</td>\n",
       "      <td>3.0</td>\n",
       "    </tr>\n",
       "    <tr>\n",
       "      <th>是否存在榜样/英雄叙事？（如疫情期间的小区送菜志愿者）</th>\n",
       "      <td>3.0</td>\n",
       "      <td>0.0</td>\n",
       "      <td>2.0</td>\n",
       "      <td>9.0</td>\n",
       "      <td>2.0</td>\n",
       "      <td>0.0</td>\n",
       "      <td>13.0</td>\n",
       "    </tr>\n",
       "    <tr>\n",
       "      <th>建设性新闻-是否出现未来导向（如，何时解除封城、未来疫情常态化）</th>\n",
       "      <td>1.0</td>\n",
       "      <td>6.0</td>\n",
       "      <td>3.0</td>\n",
       "      <td>0.0</td>\n",
       "      <td>3.0</td>\n",
       "      <td>0.0</td>\n",
       "      <td>2.0</td>\n",
       "    </tr>\n",
       "  </tbody>\n",
       "</table>\n",
       "</div>"
      ],
      "text/plain": [
       "                                           消息源-政府部门及官员  消息源-专家学者  消息源-医护工作者  \\\n",
       "建设性新闻-是否采取解决问题导向（如疫苗研制、政府援助、介绍社会各界的帮助和反应）         21.0      11.0        7.0   \n",
       "建设性新闻-是否强调公民赋权（如提供信息动员群众，为国家抗疫做贡献）                 2.0       2.0        2.0   \n",
       "是否存在榜样/英雄叙事？（如疫情期间的小区送菜志愿者）                        3.0       0.0        2.0   \n",
       "建设性新闻-是否出现未来导向（如，何时解除封城、未来疫情常态化）                   1.0       6.0        3.0   \n",
       "\n",
       "                                           消息源-志愿者  消息源-企业  消息源-微博及网友  消息源-媒体  \n",
       "建设性新闻-是否采取解决问题导向（如疫苗研制、政府援助、介绍社会各界的帮助和反应）     13.0    28.0        0.0    21.0  \n",
       "建设性新闻-是否强调公民赋权（如提供信息动员群众，为国家抗疫做贡献）             0.0     0.0        0.0     3.0  \n",
       "是否存在榜样/英雄叙事？（如疫情期间的小区送菜志愿者）                    9.0     2.0        0.0    13.0  \n",
       "建设性新闻-是否出现未来导向（如，何时解除封城、未来疫情常态化）               0.0     3.0        0.0     2.0  "
      ]
     },
     "execution_count": 113,
     "metadata": {},
     "output_type": "execute_result"
    }
   ],
   "source": [
    "info_cons"
   ]
  },
  {
   "cell_type": "code",
   "execution_count": 114,
   "metadata": {},
   "outputs": [],
   "source": [
    "info_cons = pd.DataFrame(columns=info)\n",
    "for i in range(2):\n",
    "    data = df[df['ncn']==i]\n",
    "    tmp = []\n",
    "    for j in info:\n",
    "        n = data[data[j]==1].shape[0] \n",
    "        tmp.append(n)\n",
    "\n",
    "\n",
    "    info_cons = info_cons.reindex(index=list(info_cons.index)+[i])\n",
    "    info_cons.loc[i] = tmp"
   ]
  },
  {
   "cell_type": "code",
   "execution_count": 225,
   "metadata": {},
   "outputs": [
    {
     "data": {
      "text/html": [
       "<div>\n",
       "<style scoped>\n",
       "    .dataframe tbody tr th:only-of-type {\n",
       "        vertical-align: middle;\n",
       "    }\n",
       "\n",
       "    .dataframe tbody tr th {\n",
       "        vertical-align: top;\n",
       "    }\n",
       "\n",
       "    .dataframe thead th {\n",
       "        text-align: right;\n",
       "    }\n",
       "</style>\n",
       "<table border=\"1\" class=\"dataframe\">\n",
       "  <thead>\n",
       "    <tr style=\"text-align: right;\">\n",
       "      <th></th>\n",
       "      <th>消息源-政府部门及官员</th>\n",
       "      <th>消息源-专家学者</th>\n",
       "      <th>消息源-医护工作者</th>\n",
       "      <th>消息源-志愿者</th>\n",
       "      <th>消息源-企业</th>\n",
       "      <th>消息源-微博及网友</th>\n",
       "      <th>消息源-媒体</th>\n",
       "    </tr>\n",
       "  </thead>\n",
       "  <tbody>\n",
       "    <tr>\n",
       "      <th>0</th>\n",
       "      <td>7.0</td>\n",
       "      <td>9.0</td>\n",
       "      <td>2.0</td>\n",
       "      <td>0.0</td>\n",
       "      <td>28.0</td>\n",
       "      <td>1.0</td>\n",
       "      <td>40.0</td>\n",
       "    </tr>\n",
       "    <tr>\n",
       "      <th>1</th>\n",
       "      <td>22.0</td>\n",
       "      <td>14.0</td>\n",
       "      <td>7.0</td>\n",
       "      <td>13.0</td>\n",
       "      <td>30.0</td>\n",
       "      <td>0.0</td>\n",
       "      <td>12.0</td>\n",
       "    </tr>\n",
       "  </tbody>\n",
       "</table>\n",
       "</div>"
      ],
      "text/plain": [
       "   消息源-政府部门及官员  消息源-专家学者  消息源-医护工作者  消息源-志愿者  消息源-企业  消息源-微博及网友  消息源-媒体\n",
       "0          7.0       9.0        2.0      0.0    28.0        1.0    40.0\n",
       "1         22.0      14.0        7.0     13.0    30.0        0.0    12.0"
      ]
     },
     "execution_count": 225,
     "metadata": {},
     "output_type": "execute_result"
    }
   ],
   "source": [
    "info_cons"
   ]
  },
  {
   "cell_type": "code",
   "execution_count": 115,
   "metadata": {},
   "outputs": [
    {
     "name": "stdout",
     "output_type": "stream",
     "text": [
      "(34.92047102395776, 1.266303847584969e-07, 3)\n"
     ]
    }
   ],
   "source": [
    "a = [7,11,28,41]\n",
    "b = [22,34,30,12]\n",
    "#消息源-政府部门及官员,消息源-专家学者and医护工作者and,消息源-企业,消息源-微博及网友and媒体\n",
    "\n",
    "f_obs = np.array([a,b])\n",
    "\n",
    "np.set_printoptions(suppress=True)\n",
    "print(stats.chi2_contingency(f_obs)[0:3]) #significant"
   ]
  },
  {
   "cell_type": "markdown",
   "metadata": {},
   "source": [
    "# 新闻源"
   ]
  },
  {
   "cell_type": "code",
   "execution_count": 116,
   "metadata": {},
   "outputs": [],
   "source": [
    "news_cons = pd.DataFrame(columns=news)\n",
    "for i in cons:\n",
    "    data = df[df[i]==1]\n",
    "    tmp = []\n",
    "    for j in news:\n",
    "        n = data[data[j]==1].shape[0] \n",
    "        tmp.append(n)\n",
    "\n",
    "\n",
    "    news_cons = news_cons.reindex(index=list(news_cons.index)+[i])\n",
    "    news_cons.loc[i] = tmp"
   ]
  },
  {
   "cell_type": "code",
   "execution_count": 117,
   "metadata": {},
   "outputs": [
    {
     "data": {
      "text/html": [
       "<div>\n",
       "<style scoped>\n",
       "    .dataframe tbody tr th:only-of-type {\n",
       "        vertical-align: middle;\n",
       "    }\n",
       "\n",
       "    .dataframe tbody tr th {\n",
       "        vertical-align: top;\n",
       "    }\n",
       "\n",
       "    .dataframe thead th {\n",
       "        text-align: right;\n",
       "    }\n",
       "</style>\n",
       "<table border=\"1\" class=\"dataframe\">\n",
       "  <thead>\n",
       "    <tr style=\"text-align: right;\">\n",
       "      <th></th>\n",
       "      <th>新闻源-商业媒体（界面/财新）</th>\n",
       "      <th>新闻源-大型央媒（人民日报/新华社/央视/光明日报）</th>\n",
       "      <th>新闻源-其他报纸、电视和广播电台</th>\n",
       "      <th>新闻源-自媒体等其他网络媒体</th>\n",
       "    </tr>\n",
       "  </thead>\n",
       "  <tbody>\n",
       "    <tr>\n",
       "      <th>建设性新闻-是否采取解决问题导向（如疫苗研制、政府援助、介绍社会各界的帮助和反应）</th>\n",
       "      <td>23.0</td>\n",
       "      <td>10.0</td>\n",
       "      <td>20.0</td>\n",
       "      <td>48.0</td>\n",
       "    </tr>\n",
       "    <tr>\n",
       "      <th>建设性新闻-是否强调公民赋权（如提供信息动员群众，为国家抗疫做贡献）</th>\n",
       "      <td>1.0</td>\n",
       "      <td>1.0</td>\n",
       "      <td>2.0</td>\n",
       "      <td>5.0</td>\n",
       "    </tr>\n",
       "    <tr>\n",
       "      <th>是否存在榜样/英雄叙事？（如疫情期间的小区送菜志愿者）</th>\n",
       "      <td>8.0</td>\n",
       "      <td>2.0</td>\n",
       "      <td>10.0</td>\n",
       "      <td>9.0</td>\n",
       "    </tr>\n",
       "    <tr>\n",
       "      <th>建设性新闻-是否出现未来导向（如，何时解除封城、未来疫情常态化）</th>\n",
       "      <td>3.0</td>\n",
       "      <td>0.0</td>\n",
       "      <td>2.0</td>\n",
       "      <td>10.0</td>\n",
       "    </tr>\n",
       "  </tbody>\n",
       "</table>\n",
       "</div>"
      ],
      "text/plain": [
       "                                           新闻源-商业媒体（界面/财新）  \\\n",
       "建设性新闻-是否采取解决问题导向（如疫苗研制、政府援助、介绍社会各界的帮助和反应）             23.0   \n",
       "建设性新闻-是否强调公民赋权（如提供信息动员群众，为国家抗疫做贡献）                     1.0   \n",
       "是否存在榜样/英雄叙事？（如疫情期间的小区送菜志愿者）                            8.0   \n",
       "建设性新闻-是否出现未来导向（如，何时解除封城、未来疫情常态化）                       3.0   \n",
       "\n",
       "                                           新闻源-大型央媒（人民日报/新华社/央视/光明日报）  \\\n",
       "建设性新闻-是否采取解决问题导向（如疫苗研制、政府援助、介绍社会各界的帮助和反应）                        10.0   \n",
       "建设性新闻-是否强调公民赋权（如提供信息动员群众，为国家抗疫做贡献）                                1.0   \n",
       "是否存在榜样/英雄叙事？（如疫情期间的小区送菜志愿者）                                       2.0   \n",
       "建设性新闻-是否出现未来导向（如，何时解除封城、未来疫情常态化）                                  0.0   \n",
       "\n",
       "                                           新闻源-其他报纸、电视和广播电台  新闻源-自媒体等其他网络媒体  \n",
       "建设性新闻-是否采取解决问题导向（如疫苗研制、政府援助、介绍社会各界的帮助和反应）              20.0            48.0  \n",
       "建设性新闻-是否强调公民赋权（如提供信息动员群众，为国家抗疫做贡献）                      2.0             5.0  \n",
       "是否存在榜样/英雄叙事？（如疫情期间的小区送菜志愿者）                            10.0             9.0  \n",
       "建设性新闻-是否出现未来导向（如，何时解除封城、未来疫情常态化）                        2.0            10.0  "
      ]
     },
     "execution_count": 117,
     "metadata": {},
     "output_type": "execute_result"
    }
   ],
   "source": [
    "news_cons"
   ]
  },
  {
   "cell_type": "code",
   "execution_count": 118,
   "metadata": {},
   "outputs": [],
   "source": [
    "news_cons = pd.DataFrame(columns=news)\n",
    "for i in range(2):\n",
    "    data = df[df['ncn']==i]\n",
    "    tmp = []\n",
    "    for j in news:\n",
    "        n = data[data[j]==1].shape[0] \n",
    "        tmp.append(n)\n",
    "\n",
    "\n",
    "    news_cons = news_cons.reindex(index=list(news_cons.index)+[i])\n",
    "    news_cons.loc[i] = tmp"
   ]
  },
  {
   "cell_type": "code",
   "execution_count": 119,
   "metadata": {},
   "outputs": [
    {
     "data": {
      "text/html": [
       "<div>\n",
       "<style scoped>\n",
       "    .dataframe tbody tr th:only-of-type {\n",
       "        vertical-align: middle;\n",
       "    }\n",
       "\n",
       "    .dataframe tbody tr th {\n",
       "        vertical-align: top;\n",
       "    }\n",
       "\n",
       "    .dataframe thead th {\n",
       "        text-align: right;\n",
       "    }\n",
       "</style>\n",
       "<table border=\"1\" class=\"dataframe\">\n",
       "  <thead>\n",
       "    <tr style=\"text-align: right;\">\n",
       "      <th></th>\n",
       "      <th>新闻源-商业媒体（界面/财新）</th>\n",
       "      <th>新闻源-大型央媒（人民日报/新华社/央视/光明日报）</th>\n",
       "      <th>新闻源-其他报纸、电视和广播电台</th>\n",
       "      <th>新闻源-自媒体等其他网络媒体</th>\n",
       "    </tr>\n",
       "  </thead>\n",
       "  <tbody>\n",
       "    <tr>\n",
       "      <th>0</th>\n",
       "      <td>26.0</td>\n",
       "      <td>4.0</td>\n",
       "      <td>14.0</td>\n",
       "      <td>50.0</td>\n",
       "    </tr>\n",
       "    <tr>\n",
       "      <th>1</th>\n",
       "      <td>24.0</td>\n",
       "      <td>11.0</td>\n",
       "      <td>23.0</td>\n",
       "      <td>53.0</td>\n",
       "    </tr>\n",
       "  </tbody>\n",
       "</table>\n",
       "</div>"
      ],
      "text/plain": [
       "   新闻源-商业媒体（界面/财新）  新闻源-大型央媒（人民日报/新华社/央视/光明日报）  新闻源-其他报纸、电视和广播电台  \\\n",
       "0             26.0                         4.0              14.0   \n",
       "1             24.0                        11.0              23.0   \n",
       "\n",
       "   新闻源-自媒体等其他网络媒体  \n",
       "0            50.0  \n",
       "1            53.0  "
      ]
     },
     "execution_count": 119,
     "metadata": {},
     "output_type": "execute_result"
    }
   ],
   "source": [
    "news_cons"
   ]
  },
  {
   "cell_type": "code",
   "execution_count": 121,
   "metadata": {},
   "outputs": [
    {
     "name": "stdout",
     "output_type": "stream",
     "text": [
      "(3.706186387553875, 0.15675155272493793, 2)\n"
     ]
    }
   ],
   "source": [
    "a = [26,18,50]\n",
    "b = [24,34,53]\n",
    "#央媒and其他报纸、电视和广播电台\n",
    "\n",
    "f_obs = np.array([a,b])\n",
    "\n",
    "np.set_printoptions(suppress=True)\n",
    "print(stats.chi2_contingency(f_obs)[0:3]) # not significant"
   ]
  },
  {
   "cell_type": "markdown",
   "metadata": {},
   "source": [
    "# 报道对象"
   ]
  },
  {
   "cell_type": "code",
   "execution_count": 122,
   "metadata": {},
   "outputs": [
    {
     "data": {
      "text/html": [
       "<div>\n",
       "<style scoped>\n",
       "    .dataframe tbody tr th:only-of-type {\n",
       "        vertical-align: middle;\n",
       "    }\n",
       "\n",
       "    .dataframe tbody tr th {\n",
       "        vertical-align: top;\n",
       "    }\n",
       "\n",
       "    .dataframe thead th {\n",
       "        text-align: right;\n",
       "    }\n",
       "</style>\n",
       "<table border=\"1\" class=\"dataframe\">\n",
       "  <thead>\n",
       "    <tr style=\"text-align: right;\">\n",
       "      <th></th>\n",
       "      <th>报道对象-疫情发展与防控情况</th>\n",
       "      <th>报道对象-患者及其家属</th>\n",
       "      <th>报道对象-志愿者</th>\n",
       "      <th>报道对象-政府部门和官员</th>\n",
       "      <th>报道对象-医护工作者</th>\n",
       "      <th>报道对象-除上述角色外的普通群众</th>\n",
       "      <th>报道对象-公司企业</th>\n",
       "      <th>报道对象-媒体</th>\n",
       "    </tr>\n",
       "  </thead>\n",
       "  <tbody>\n",
       "    <tr>\n",
       "      <th>建设性新闻-是否采取解决问题导向（如疫苗研制、政府援助、介绍社会各界的帮助和反应）</th>\n",
       "      <td>26.0</td>\n",
       "      <td>0.0</td>\n",
       "      <td>17.0</td>\n",
       "      <td>12.0</td>\n",
       "      <td>6.0</td>\n",
       "      <td>10.0</td>\n",
       "      <td>30.0</td>\n",
       "      <td>0.0</td>\n",
       "    </tr>\n",
       "    <tr>\n",
       "      <th>建设性新闻-是否强调公民赋权（如提供信息动员群众，为国家抗疫做贡献）</th>\n",
       "      <td>5.0</td>\n",
       "      <td>0.0</td>\n",
       "      <td>0.0</td>\n",
       "      <td>0.0</td>\n",
       "      <td>2.0</td>\n",
       "      <td>2.0</td>\n",
       "      <td>0.0</td>\n",
       "      <td>0.0</td>\n",
       "    </tr>\n",
       "    <tr>\n",
       "      <th>是否存在榜样/英雄叙事？（如疫情期间的小区送菜志愿者）</th>\n",
       "      <td>2.0</td>\n",
       "      <td>0.0</td>\n",
       "      <td>12.0</td>\n",
       "      <td>2.0</td>\n",
       "      <td>4.0</td>\n",
       "      <td>5.0</td>\n",
       "      <td>4.0</td>\n",
       "      <td>0.0</td>\n",
       "    </tr>\n",
       "    <tr>\n",
       "      <th>建设性新闻-是否出现未来导向（如，何时解除封城、未来疫情常态化）</th>\n",
       "      <td>10.0</td>\n",
       "      <td>0.0</td>\n",
       "      <td>0.0</td>\n",
       "      <td>1.0</td>\n",
       "      <td>0.0</td>\n",
       "      <td>1.0</td>\n",
       "      <td>3.0</td>\n",
       "      <td>0.0</td>\n",
       "    </tr>\n",
       "  </tbody>\n",
       "</table>\n",
       "</div>"
      ],
      "text/plain": [
       "                                           报道对象-疫情发展与防控情况  报道对象-患者及其家属  \\\n",
       "建设性新闻-是否采取解决问题导向（如疫苗研制、政府援助、介绍社会各界的帮助和反应）            26.0          0.0   \n",
       "建设性新闻-是否强调公民赋权（如提供信息动员群众，为国家抗疫做贡献）                    5.0          0.0   \n",
       "是否存在榜样/英雄叙事？（如疫情期间的小区送菜志愿者）                           2.0          0.0   \n",
       "建设性新闻-是否出现未来导向（如，何时解除封城、未来疫情常态化）                     10.0          0.0   \n",
       "\n",
       "                                           报道对象-志愿者  报道对象-政府部门和官员  报道对象-医护工作者  \\\n",
       "建设性新闻-是否采取解决问题导向（如疫苗研制、政府援助、介绍社会各界的帮助和反应）      17.0          12.0         6.0   \n",
       "建设性新闻-是否强调公民赋权（如提供信息动员群众，为国家抗疫做贡献）              0.0           0.0         2.0   \n",
       "是否存在榜样/英雄叙事？（如疫情期间的小区送菜志愿者）                    12.0           2.0         4.0   \n",
       "建设性新闻-是否出现未来导向（如，何时解除封城、未来疫情常态化）                0.0           1.0         0.0   \n",
       "\n",
       "                                           报道对象-除上述角色外的普通群众  报道对象-公司企业  \\\n",
       "建设性新闻-是否采取解决问题导向（如疫苗研制、政府援助、介绍社会各界的帮助和反应）              10.0       30.0   \n",
       "建设性新闻-是否强调公民赋权（如提供信息动员群众，为国家抗疫做贡献）                      2.0        0.0   \n",
       "是否存在榜样/英雄叙事？（如疫情期间的小区送菜志愿者）                             5.0        4.0   \n",
       "建设性新闻-是否出现未来导向（如，何时解除封城、未来疫情常态化）                        1.0        3.0   \n",
       "\n",
       "                                           报道对象-媒体  \n",
       "建设性新闻-是否采取解决问题导向（如疫苗研制、政府援助、介绍社会各界的帮助和反应）      0.0  \n",
       "建设性新闻-是否强调公民赋权（如提供信息动员群众，为国家抗疫做贡献）             0.0  \n",
       "是否存在榜样/英雄叙事？（如疫情期间的小区送菜志愿者）                    0.0  \n",
       "建设性新闻-是否出现未来导向（如，何时解除封城、未来疫情常态化）               0.0  "
      ]
     },
     "execution_count": 122,
     "metadata": {},
     "output_type": "execute_result"
    }
   ],
   "source": [
    "identity_cons = pd.DataFrame(columns=identity)\n",
    "for i in cons:\n",
    "    data = df[df[i]==1]\n",
    "    tmp = []\n",
    "    for j in identity:\n",
    "        n = data[data[j]==1].shape[0] \n",
    "        tmp.append(n)\n",
    "    identity_cons = identity_cons.reindex(index=list(identity_cons.index)+[i])\n",
    "    identity_cons.loc[i] = tmp\n",
    "    \n",
    "identity_cons"
   ]
  },
  {
   "cell_type": "code",
   "execution_count": 123,
   "metadata": {},
   "outputs": [
    {
     "data": {
      "text/html": [
       "<div>\n",
       "<style scoped>\n",
       "    .dataframe tbody tr th:only-of-type {\n",
       "        vertical-align: middle;\n",
       "    }\n",
       "\n",
       "    .dataframe tbody tr th {\n",
       "        vertical-align: top;\n",
       "    }\n",
       "\n",
       "    .dataframe thead th {\n",
       "        text-align: right;\n",
       "    }\n",
       "</style>\n",
       "<table border=\"1\" class=\"dataframe\">\n",
       "  <thead>\n",
       "    <tr style=\"text-align: right;\">\n",
       "      <th></th>\n",
       "      <th>报道对象-疫情发展与防控情况</th>\n",
       "      <th>报道对象-患者及其家属</th>\n",
       "      <th>报道对象-志愿者</th>\n",
       "      <th>报道对象-政府部门和官员</th>\n",
       "      <th>报道对象-医护工作者</th>\n",
       "      <th>报道对象-除上述角色外的普通群众</th>\n",
       "      <th>报道对象-公司企业</th>\n",
       "      <th>报道对象-媒体</th>\n",
       "    </tr>\n",
       "  </thead>\n",
       "  <tbody>\n",
       "    <tr>\n",
       "      <th>0</th>\n",
       "      <td>35.0</td>\n",
       "      <td>2.0</td>\n",
       "      <td>0.0</td>\n",
       "      <td>4.0</td>\n",
       "      <td>2.0</td>\n",
       "      <td>8.0</td>\n",
       "      <td>43.0</td>\n",
       "      <td>0.0</td>\n",
       "    </tr>\n",
       "    <tr>\n",
       "      <th>1</th>\n",
       "      <td>30.0</td>\n",
       "      <td>0.0</td>\n",
       "      <td>17.0</td>\n",
       "      <td>14.0</td>\n",
       "      <td>7.0</td>\n",
       "      <td>11.0</td>\n",
       "      <td>32.0</td>\n",
       "      <td>0.0</td>\n",
       "    </tr>\n",
       "  </tbody>\n",
       "</table>\n",
       "</div>"
      ],
      "text/plain": [
       "   报道对象-疫情发展与防控情况  报道对象-患者及其家属  报道对象-志愿者  报道对象-政府部门和官员  报道对象-医护工作者  \\\n",
       "0            35.0          2.0       0.0           4.0         2.0   \n",
       "1            30.0          0.0      17.0          14.0         7.0   \n",
       "\n",
       "   报道对象-除上述角色外的普通群众  报道对象-公司企业  报道对象-媒体  \n",
       "0               8.0       43.0      0.0  \n",
       "1              11.0       32.0      0.0  "
      ]
     },
     "execution_count": 123,
     "metadata": {},
     "output_type": "execute_result"
    }
   ],
   "source": [
    "identity_cons = pd.DataFrame(columns=identity)\n",
    "for i in range(2):\n",
    "    data = df[df['ncn']==i]\n",
    "    tmp = []\n",
    "    for j in identity:\n",
    "        n = data[data[j]==1].shape[0] \n",
    "        tmp.append(n)\n",
    "    identity_cons = identity_cons.reindex(index=list(identity_cons.index)+[i])\n",
    "    identity_cons.loc[i] = tmp\n",
    "    \n",
    "identity_cons"
   ]
  },
  {
   "cell_type": "code",
   "execution_count": 125,
   "metadata": {},
   "outputs": [
    {
     "name": "stdout",
     "output_type": "stream",
     "text": [
      "(20.769926075539786, 0.00011751665435738802, 3)\n"
     ]
    }
   ],
   "source": [
    "a = [35,8,8,43]\n",
    "b = [30,38,11,32]\n",
    "#特殊群众：报道对象-患者及其家属\t报道对象-志愿者\t报道对象-政府部门和官员\t报道对象-医护工作者\n",
    "\n",
    "f_obs = np.array([a,b])\n",
    "\n",
    "np.set_printoptions(suppress=True)\n",
    "print(stats.chi2_contingency(f_obs)[0:3]) # significant"
   ]
  },
  {
   "cell_type": "markdown",
   "metadata": {},
   "source": [
    "# Tone"
   ]
  },
  {
   "cell_type": "code",
   "execution_count": 126,
   "metadata": {},
   "outputs": [
    {
     "data": {
      "text/html": [
       "<div>\n",
       "<style scoped>\n",
       "    .dataframe tbody tr th:only-of-type {\n",
       "        vertical-align: middle;\n",
       "    }\n",
       "\n",
       "    .dataframe tbody tr th {\n",
       "        vertical-align: top;\n",
       "    }\n",
       "\n",
       "    .dataframe thead th {\n",
       "        text-align: right;\n",
       "    }\n",
       "</style>\n",
       "<table border=\"1\" class=\"dataframe\">\n",
       "  <thead>\n",
       "    <tr style=\"text-align: right;\">\n",
       "      <th></th>\n",
       "      <th>报道基调-正面</th>\n",
       "      <th>报道基调-中立</th>\n",
       "      <th>报道基调-负面</th>\n",
       "    </tr>\n",
       "  </thead>\n",
       "  <tbody>\n",
       "    <tr>\n",
       "      <th>建设性新闻-是否采取解决问题导向（如疫苗研制、政府援助、介绍社会各界的帮助和反应）</th>\n",
       "      <td>44.0</td>\n",
       "      <td>57.0</td>\n",
       "      <td>0.0</td>\n",
       "    </tr>\n",
       "    <tr>\n",
       "      <th>建设性新闻-是否强调公民赋权（如提供信息动员群众，为国家抗疫做贡献）</th>\n",
       "      <td>2.0</td>\n",
       "      <td>6.0</td>\n",
       "      <td>1.0</td>\n",
       "    </tr>\n",
       "    <tr>\n",
       "      <th>是否存在榜样/英雄叙事？（如疫情期间的小区送菜志愿者）</th>\n",
       "      <td>23.0</td>\n",
       "      <td>5.0</td>\n",
       "      <td>1.0</td>\n",
       "    </tr>\n",
       "    <tr>\n",
       "      <th>建设性新闻-是否出现未来导向（如，何时解除封城、未来疫情常态化）</th>\n",
       "      <td>1.0</td>\n",
       "      <td>14.0</td>\n",
       "      <td>0.0</td>\n",
       "    </tr>\n",
       "  </tbody>\n",
       "</table>\n",
       "</div>"
      ],
      "text/plain": [
       "                                           报道基调-正面  报道基调-中立  报道基调-负面\n",
       "建设性新闻-是否采取解决问题导向（如疫苗研制、政府援助、介绍社会各界的帮助和反应）     44.0     57.0      0.0\n",
       "建设性新闻-是否强调公民赋权（如提供信息动员群众，为国家抗疫做贡献）             2.0      6.0      1.0\n",
       "是否存在榜样/英雄叙事？（如疫情期间的小区送菜志愿者）                   23.0      5.0      1.0\n",
       "建设性新闻-是否出现未来导向（如，何时解除封城、未来疫情常态化）               1.0     14.0      0.0"
      ]
     },
     "execution_count": 126,
     "metadata": {},
     "output_type": "execute_result"
    }
   ],
   "source": [
    "tone_cons = pd.DataFrame(columns=tone)\n",
    "for i in cons:\n",
    "    data = df[df[i]==1]\n",
    "    tmp = []\n",
    "    for j in tone:\n",
    "        n = data[data[j]==1].shape[0] \n",
    "        tmp.append(n)\n",
    "    tone_cons = tone_cons.reindex(index=list(tone_cons.index)+[i])\n",
    "    tone_cons.loc[i] = tmp\n",
    "    \n",
    "tone_cons"
   ]
  },
  {
   "cell_type": "code",
   "execution_count": 127,
   "metadata": {},
   "outputs": [
    {
     "data": {
      "text/html": [
       "<div>\n",
       "<style scoped>\n",
       "    .dataframe tbody tr th:only-of-type {\n",
       "        vertical-align: middle;\n",
       "    }\n",
       "\n",
       "    .dataframe tbody tr th {\n",
       "        vertical-align: top;\n",
       "    }\n",
       "\n",
       "    .dataframe thead th {\n",
       "        text-align: right;\n",
       "    }\n",
       "</style>\n",
       "<table border=\"1\" class=\"dataframe\">\n",
       "  <thead>\n",
       "    <tr style=\"text-align: right;\">\n",
       "      <th></th>\n",
       "      <th>报道基调-正面</th>\n",
       "      <th>报道基调-中立</th>\n",
       "      <th>报道基调-负面</th>\n",
       "    </tr>\n",
       "  </thead>\n",
       "  <tbody>\n",
       "    <tr>\n",
       "      <th>0</th>\n",
       "      <td>2.0</td>\n",
       "      <td>87.0</td>\n",
       "      <td>5.0</td>\n",
       "    </tr>\n",
       "    <tr>\n",
       "      <th>1</th>\n",
       "      <td>46.0</td>\n",
       "      <td>63.0</td>\n",
       "      <td>2.0</td>\n",
       "    </tr>\n",
       "  </tbody>\n",
       "</table>\n",
       "</div>"
      ],
      "text/plain": [
       "   报道基调-正面  报道基调-中立  报道基调-负面\n",
       "0      2.0     87.0      5.0\n",
       "1     46.0     63.0      2.0"
      ]
     },
     "execution_count": 127,
     "metadata": {},
     "output_type": "execute_result"
    }
   ],
   "source": [
    "tone_cons = pd.DataFrame(columns=tone)\n",
    "for i in range(2):\n",
    "    data = df[df['ncn']==i]\n",
    "    tmp = []\n",
    "    for j in tone:\n",
    "        n = data[data[j]==1].shape[0] \n",
    "        tmp.append(n)\n",
    "    tone_cons = tone_cons.reindex(index=list(tone_cons.index)+[i])\n",
    "    tone_cons.loc[i] = tmp\n",
    "    \n",
    "tone_cons"
   ]
  },
  {
   "cell_type": "markdown",
   "metadata": {},
   "source": [
    "# home"
   ]
  },
  {
   "cell_type": "code",
   "execution_count": 128,
   "metadata": {},
   "outputs": [
    {
     "data": {
      "text/html": [
       "<div>\n",
       "<style scoped>\n",
       "    .dataframe tbody tr th:only-of-type {\n",
       "        vertical-align: middle;\n",
       "    }\n",
       "\n",
       "    .dataframe tbody tr th {\n",
       "        vertical-align: top;\n",
       "    }\n",
       "\n",
       "    .dataframe thead th {\n",
       "        text-align: right;\n",
       "    }\n",
       "</style>\n",
       "<table border=\"1\" class=\"dataframe\">\n",
       "  <thead>\n",
       "    <tr style=\"text-align: right;\">\n",
       "      <th></th>\n",
       "      <th>封城地点-国外</th>\n",
       "      <th>封城地点-国内</th>\n",
       "    </tr>\n",
       "  </thead>\n",
       "  <tbody>\n",
       "    <tr>\n",
       "      <th>建设性新闻-是否采取解决问题导向（如疫苗研制、政府援助、介绍社会各界的帮助和反应）</th>\n",
       "      <td>2.0</td>\n",
       "      <td>99.0</td>\n",
       "    </tr>\n",
       "    <tr>\n",
       "      <th>建设性新闻-是否强调公民赋权（如提供信息动员群众，为国家抗疫做贡献）</th>\n",
       "      <td>0.0</td>\n",
       "      <td>9.0</td>\n",
       "    </tr>\n",
       "    <tr>\n",
       "      <th>是否存在榜样/英雄叙事？（如疫情期间的小区送菜志愿者）</th>\n",
       "      <td>0.0</td>\n",
       "      <td>29.0</td>\n",
       "    </tr>\n",
       "    <tr>\n",
       "      <th>建设性新闻-是否出现未来导向（如，何时解除封城、未来疫情常态化）</th>\n",
       "      <td>1.0</td>\n",
       "      <td>14.0</td>\n",
       "    </tr>\n",
       "  </tbody>\n",
       "</table>\n",
       "</div>"
      ],
      "text/plain": [
       "                                           封城地点-国外  封城地点-国内\n",
       "建设性新闻-是否采取解决问题导向（如疫苗研制、政府援助、介绍社会各界的帮助和反应）      2.0     99.0\n",
       "建设性新闻-是否强调公民赋权（如提供信息动员群众，为国家抗疫做贡献）             0.0      9.0\n",
       "是否存在榜样/英雄叙事？（如疫情期间的小区送菜志愿者）                    0.0     29.0\n",
       "建设性新闻-是否出现未来导向（如，何时解除封城、未来疫情常态化）               1.0     14.0"
      ]
     },
     "execution_count": 128,
     "metadata": {},
     "output_type": "execute_result"
    }
   ],
   "source": [
    "#后发现有比较的文章，于是认为非互斥\n",
    "home_cons = pd.DataFrame(columns=home)\n",
    "for i in cons:\n",
    "    data = df[df[i]==1]\n",
    "    tmp = []\n",
    "    for j in home:\n",
    "        n = data[data[j]==1].shape[0] \n",
    "        tmp.append(n)\n",
    "    home_cons = home_cons.reindex(index=list(home_cons.index)+[i])\n",
    "    home_cons.loc[i] = tmp\n",
    "    \n",
    "home_cons"
   ]
  },
  {
   "cell_type": "markdown",
   "metadata": {},
   "source": [
    "# single"
   ]
  },
  {
   "cell_type": "code",
   "execution_count": 129,
   "metadata": {},
   "outputs": [
    {
     "data": {
      "text/html": [
       "<div>\n",
       "<style scoped>\n",
       "    .dataframe tbody tr th:only-of-type {\n",
       "        vertical-align: middle;\n",
       "    }\n",
       "\n",
       "    .dataframe tbody tr th {\n",
       "        vertical-align: top;\n",
       "    }\n",
       "\n",
       "    .dataframe thead th {\n",
       "        text-align: right;\n",
       "    }\n",
       "</style>\n",
       "<table border=\"1\" class=\"dataframe\">\n",
       "  <thead>\n",
       "    <tr style=\"text-align: right;\">\n",
       "      <th></th>\n",
       "      <th>建设性新闻-是否采取解决问题导向（如疫苗研制、政府援助、介绍社会各界的帮助和反应）</th>\n",
       "      <th>建设性新闻-是否强调公民赋权（如提供信息动员群众，为国家抗疫做贡献）</th>\n",
       "      <th>是否存在榜样/英雄叙事？（如疫情期间的小区送菜志愿者）</th>\n",
       "      <th>建设性新闻-是否出现未来导向（如，何时解除封城、未来疫情常态化）</th>\n",
       "    </tr>\n",
       "  </thead>\n",
       "  <tbody>\n",
       "    <tr>\n",
       "      <th>叙事类型-个人叙事</th>\n",
       "      <td>37.0</td>\n",
       "      <td>2.0</td>\n",
       "      <td>22.0</td>\n",
       "      <td>3.0</td>\n",
       "    </tr>\n",
       "    <tr>\n",
       "      <th>叙事类型-非个人叙事</th>\n",
       "      <td>64.0</td>\n",
       "      <td>7.0</td>\n",
       "      <td>7.0</td>\n",
       "      <td>12.0</td>\n",
       "    </tr>\n",
       "  </tbody>\n",
       "</table>\n",
       "</div>"
      ],
      "text/plain": [
       "            建设性新闻-是否采取解决问题导向（如疫苗研制、政府援助、介绍社会各界的帮助和反应）  \\\n",
       "叙事类型-个人叙事                                        37.0   \n",
       "叙事类型-非个人叙事                                       64.0   \n",
       "\n",
       "            建设性新闻-是否强调公民赋权（如提供信息动员群众，为国家抗疫做贡献）  是否存在榜样/英雄叙事？（如疫情期间的小区送菜志愿者）  \\\n",
       "叙事类型-个人叙事                                  2.0                         22.0   \n",
       "叙事类型-非个人叙事                                 7.0                          7.0   \n",
       "\n",
       "            建设性新闻-是否出现未来导向（如，何时解除封城、未来疫情常态化）  \n",
       "叙事类型-个人叙事                                3.0  \n",
       "叙事类型-非个人叙事                              12.0  "
      ]
     },
     "execution_count": 129,
     "metadata": {},
     "output_type": "execute_result"
    }
   ],
   "source": [
    "cons_single = pd.DataFrame(columns=cons)\n",
    "for i in single:\n",
    "    data = df[df[i]==1]\n",
    "    tmp = []\n",
    "    for j in cons:\n",
    "        n = data[data[j]==1].shape[0] \n",
    "        tmp.append(n)\n",
    "\n",
    "\n",
    "    cons_single = cons_single.reindex(index=list(cons_single.index)+[i])\n",
    "    cons_single.loc[i] = tmp\n",
    "cons_single"
   ]
  },
  {
   "cell_type": "code",
   "execution_count": 158,
   "metadata": {},
   "outputs": [
    {
     "name": "stdout",
     "output_type": "stream",
     "text": [
      "index                               1680\n",
      "date                               03-09\n",
      "title          早盘：标普500指数暴跌7% 触发熔断机制暂停交易\n",
      "消息源-政府部门及官员                            0\n",
      "Name: 30, dtype: object\n",
      "index                       151\n",
      "date                      02-23\n",
      "title          现在，全世界最担忧的是这个国家！\n",
      "消息源-政府部门及官员                   0\n",
      "Name: 109, dtype: object\n",
      "index                  1760\n",
      "date                  03-04\n",
      "title          新冠疫情下油价走势的遐思\n",
      "消息源-政府部门及官员               0\n",
      "Name: 162, dtype: object\n"
     ]
    }
   ],
   "source": [
    "\n",
    "for i in range(df.shape[0]):\n",
    "    data = df.iloc[i,:]   \n",
    "    if not(sum(data[27:29])==1.0):\n",
    "        print(data[:4])\n"
   ]
  },
  {
   "cell_type": "code",
   "execution_count": 162,
   "metadata": {},
   "outputs": [
    {
     "data": {
      "text/html": [
       "<div>\n",
       "<style scoped>\n",
       "    .dataframe tbody tr th:only-of-type {\n",
       "        vertical-align: middle;\n",
       "    }\n",
       "\n",
       "    .dataframe tbody tr th {\n",
       "        vertical-align: top;\n",
       "    }\n",
       "\n",
       "    .dataframe thead th {\n",
       "        text-align: right;\n",
       "    }\n",
       "</style>\n",
       "<table border=\"1\" class=\"dataframe\">\n",
       "  <thead>\n",
       "    <tr style=\"text-align: right;\">\n",
       "      <th></th>\n",
       "      <th>index</th>\n",
       "      <th>date</th>\n",
       "      <th>title</th>\n",
       "      <th>消息源-政府部门及官员</th>\n",
       "      <th>消息源-专家学者</th>\n",
       "      <th>消息源-医护工作者</th>\n",
       "      <th>消息源-志愿者</th>\n",
       "      <th>消息源-企业</th>\n",
       "      <th>消息源-微博及网友</th>\n",
       "      <th>消息源-媒体</th>\n",
       "      <th>...</th>\n",
       "      <th>框架类型-处理建议（对市民的建议和提供帮助的渠道介绍）</th>\n",
       "      <th>框架类型-道德评估（对社会各界反应的评论等）</th>\n",
       "      <th>框架类型-历史背景（指近期或远期的相关事件和历史）</th>\n",
       "      <th>建设性新闻-是否采取解决问题导向（如疫苗研制、政府援助、介绍社会各界的帮助和反应）</th>\n",
       "      <th>建设性新闻-是否强调公民赋权（如提供信息动员群众，为国家抗疫做贡献）</th>\n",
       "      <th>是否存在榜样/英雄叙事？（如疫情期间的小区送菜志愿者）</th>\n",
       "      <th>建设性新闻-是否出现未来导向（如，何时解除封城、未来疫情常态化）</th>\n",
       "      <th>from</th>\n",
       "      <th>cons_01</th>\n",
       "      <th>ncn</th>\n",
       "    </tr>\n",
       "  </thead>\n",
       "  <tbody>\n",
       "    <tr>\n",
       "      <th>48</th>\n",
       "      <td>1500</td>\n",
       "      <td>02-02</td>\n",
       "      <td>作为在物资方面容易\"灯下黑\"的城市 孝感开始自救</td>\n",
       "      <td>1.0</td>\n",
       "      <td>0.0</td>\n",
       "      <td>0.0</td>\n",
       "      <td>0.0</td>\n",
       "      <td>0.0</td>\n",
       "      <td>0.0</td>\n",
       "      <td>0.0</td>\n",
       "      <td>...</td>\n",
       "      <td>0.0</td>\n",
       "      <td>0.0</td>\n",
       "      <td>0.0</td>\n",
       "      <td>0.0</td>\n",
       "      <td>0.0</td>\n",
       "      <td>1.0</td>\n",
       "      <td>0.0</td>\n",
       "      <td>2</td>\n",
       "      <td>1.0</td>\n",
       "      <td>1</td>\n",
       "    </tr>\n",
       "    <tr>\n",
       "      <th>80</th>\n",
       "      <td>2005</td>\n",
       "      <td>02-25</td>\n",
       "      <td>防疫人员自杀、首尔至青岛机票暴涨，韩国疫情引多重疑问</td>\n",
       "      <td>0.0</td>\n",
       "      <td>0.0</td>\n",
       "      <td>0.0</td>\n",
       "      <td>0.0</td>\n",
       "      <td>0.0</td>\n",
       "      <td>0.0</td>\n",
       "      <td>1.0</td>\n",
       "      <td>...</td>\n",
       "      <td>0.0</td>\n",
       "      <td>0.0</td>\n",
       "      <td>0.0</td>\n",
       "      <td>0.0</td>\n",
       "      <td>0.0</td>\n",
       "      <td>0.0</td>\n",
       "      <td>0.0</td>\n",
       "      <td>2</td>\n",
       "      <td>0.0</td>\n",
       "      <td>0</td>\n",
       "    </tr>\n",
       "    <tr>\n",
       "      <th>88</th>\n",
       "      <td>911</td>\n",
       "      <td>01-31</td>\n",
       "      <td>如此谈论中国疫情 美国商务部长的冷血很美国</td>\n",
       "      <td>0.0</td>\n",
       "      <td>0.0</td>\n",
       "      <td>0.0</td>\n",
       "      <td>0.0</td>\n",
       "      <td>0.0</td>\n",
       "      <td>0.0</td>\n",
       "      <td>1.0</td>\n",
       "      <td>...</td>\n",
       "      <td>0.0</td>\n",
       "      <td>1.0</td>\n",
       "      <td>0.0</td>\n",
       "      <td>0.0</td>\n",
       "      <td>0.0</td>\n",
       "      <td>0.0</td>\n",
       "      <td>0.0</td>\n",
       "      <td>2</td>\n",
       "      <td>0.0</td>\n",
       "      <td>0</td>\n",
       "    </tr>\n",
       "    <tr>\n",
       "      <th>97</th>\n",
       "      <td>29</td>\n",
       "      <td>02-11</td>\n",
       "      <td>解放军战机越过“中线”台军战机拦截 双方喊话曝光</td>\n",
       "      <td>1.0</td>\n",
       "      <td>0.0</td>\n",
       "      <td>0.0</td>\n",
       "      <td>0.0</td>\n",
       "      <td>0.0</td>\n",
       "      <td>0.0</td>\n",
       "      <td>0.0</td>\n",
       "      <td>...</td>\n",
       "      <td>0.0</td>\n",
       "      <td>1.0</td>\n",
       "      <td>0.0</td>\n",
       "      <td>0.0</td>\n",
       "      <td>0.0</td>\n",
       "      <td>0.0</td>\n",
       "      <td>0.0</td>\n",
       "      <td>2</td>\n",
       "      <td>0.0</td>\n",
       "      <td>0</td>\n",
       "    </tr>\n",
       "    <tr>\n",
       "      <th>101</th>\n",
       "      <td>819</td>\n",
       "      <td>01-23</td>\n",
       "      <td>新京报怒骂：炫耀带“病”偷溜国外 也是种“病”</td>\n",
       "      <td>0.0</td>\n",
       "      <td>0.0</td>\n",
       "      <td>0.0</td>\n",
       "      <td>0.0</td>\n",
       "      <td>0.0</td>\n",
       "      <td>0.0</td>\n",
       "      <td>1.0</td>\n",
       "      <td>...</td>\n",
       "      <td>0.0</td>\n",
       "      <td>1.0</td>\n",
       "      <td>0.0</td>\n",
       "      <td>0.0</td>\n",
       "      <td>1.0</td>\n",
       "      <td>0.0</td>\n",
       "      <td>0.0</td>\n",
       "      <td>2</td>\n",
       "      <td>1.0</td>\n",
       "      <td>1</td>\n",
       "    </tr>\n",
       "    <tr>\n",
       "      <th>120</th>\n",
       "      <td>470</td>\n",
       "      <td>01-26</td>\n",
       "      <td>美媒炒作武汉“封城”是“侵犯人权” 结果翻车了</td>\n",
       "      <td>0.0</td>\n",
       "      <td>0.0</td>\n",
       "      <td>0.0</td>\n",
       "      <td>0.0</td>\n",
       "      <td>0.0</td>\n",
       "      <td>0.0</td>\n",
       "      <td>1.0</td>\n",
       "      <td>...</td>\n",
       "      <td>0.0</td>\n",
       "      <td>1.0</td>\n",
       "      <td>0.0</td>\n",
       "      <td>0.0</td>\n",
       "      <td>0.0</td>\n",
       "      <td>0.0</td>\n",
       "      <td>0.0</td>\n",
       "      <td>3</td>\n",
       "      <td>0.0</td>\n",
       "      <td>0</td>\n",
       "    </tr>\n",
       "    <tr>\n",
       "      <th>151</th>\n",
       "      <td>164</td>\n",
       "      <td>02-17</td>\n",
       "      <td>不择手段诋毁大陆抗疫 台湾知名节目令人“智息”</td>\n",
       "      <td>1.0</td>\n",
       "      <td>0.0</td>\n",
       "      <td>0.0</td>\n",
       "      <td>0.0</td>\n",
       "      <td>0.0</td>\n",
       "      <td>0.0</td>\n",
       "      <td>0.0</td>\n",
       "      <td>...</td>\n",
       "      <td>0.0</td>\n",
       "      <td>1.0</td>\n",
       "      <td>0.0</td>\n",
       "      <td>0.0</td>\n",
       "      <td>0.0</td>\n",
       "      <td>0.0</td>\n",
       "      <td>0.0</td>\n",
       "      <td>3</td>\n",
       "      <td>0.0</td>\n",
       "      <td>0</td>\n",
       "    </tr>\n",
       "  </tbody>\n",
       "</table>\n",
       "<p>7 rows × 44 columns</p>\n",
       "</div>"
      ],
      "text/plain": [
       "     index   date                       title  消息源-政府部门及官员  消息源-专家学者  \\\n",
       "48    1500  02-02    作为在物资方面容易\"灯下黑\"的城市 孝感开始自救          1.0       0.0   \n",
       "80    2005  02-25  防疫人员自杀、首尔至青岛机票暴涨，韩国疫情引多重疑问          0.0       0.0   \n",
       "88     911  01-31       如此谈论中国疫情 美国商务部长的冷血很美国          0.0       0.0   \n",
       "97      29  02-11    解放军战机越过“中线”台军战机拦截 双方喊话曝光          1.0       0.0   \n",
       "101    819  01-23     新京报怒骂：炫耀带“病”偷溜国外 也是种“病”          0.0       0.0   \n",
       "120    470  01-26     美媒炒作武汉“封城”是“侵犯人权” 结果翻车了          0.0       0.0   \n",
       "151    164  02-17     不择手段诋毁大陆抗疫 台湾知名节目令人“智息”          1.0       0.0   \n",
       "\n",
       "     消息源-医护工作者  消息源-志愿者  消息源-企业  消息源-微博及网友  消息源-媒体  ...  \\\n",
       "48         0.0      0.0     0.0        0.0     0.0  ...   \n",
       "80         0.0      0.0     0.0        0.0     1.0  ...   \n",
       "88         0.0      0.0     0.0        0.0     1.0  ...   \n",
       "97         0.0      0.0     0.0        0.0     0.0  ...   \n",
       "101        0.0      0.0     0.0        0.0     1.0  ...   \n",
       "120        0.0      0.0     0.0        0.0     1.0  ...   \n",
       "151        0.0      0.0     0.0        0.0     0.0  ...   \n",
       "\n",
       "     框架类型-处理建议（对市民的建议和提供帮助的渠道介绍）  框架类型-道德评估（对社会各界反应的评论等）  \\\n",
       "48                           0.0                     0.0   \n",
       "80                           0.0                     0.0   \n",
       "88                           0.0                     1.0   \n",
       "97                           0.0                     1.0   \n",
       "101                          0.0                     1.0   \n",
       "120                          0.0                     1.0   \n",
       "151                          0.0                     1.0   \n",
       "\n",
       "     框架类型-历史背景（指近期或远期的相关事件和历史）  建设性新闻-是否采取解决问题导向（如疫苗研制、政府援助、介绍社会各界的帮助和反应）  \\\n",
       "48                         0.0                                        0.0   \n",
       "80                         0.0                                        0.0   \n",
       "88                         0.0                                        0.0   \n",
       "97                         0.0                                        0.0   \n",
       "101                        0.0                                        0.0   \n",
       "120                        0.0                                        0.0   \n",
       "151                        0.0                                        0.0   \n",
       "\n",
       "     建设性新闻-是否强调公民赋权（如提供信息动员群众，为国家抗疫做贡献）  是否存在榜样/英雄叙事？（如疫情期间的小区送菜志愿者）  \\\n",
       "48                                  0.0                          1.0   \n",
       "80                                  0.0                          0.0   \n",
       "88                                  0.0                          0.0   \n",
       "97                                  0.0                          0.0   \n",
       "101                                 1.0                          0.0   \n",
       "120                                 0.0                          0.0   \n",
       "151                                 0.0                          0.0   \n",
       "\n",
       "     建设性新闻-是否出现未来导向（如，何时解除封城、未来疫情常态化）  from  cons_01  ncn  \n",
       "48                                0.0     2      1.0    1  \n",
       "80                                0.0     2      0.0    0  \n",
       "88                                0.0     2      0.0    0  \n",
       "97                                0.0     2      0.0    0  \n",
       "101                               0.0     2      1.0    1  \n",
       "120                               0.0     3      0.0    0  \n",
       "151                               0.0     3      0.0    0  \n",
       "\n",
       "[7 rows x 44 columns]"
      ]
     },
     "execution_count": 162,
     "metadata": {},
     "output_type": "execute_result"
    }
   ],
   "source": [
    "df[df['报道基调-负面']==1]"
   ]
  },
  {
   "cell_type": "code",
   "execution_count": 147,
   "metadata": {},
   "outputs": [
    {
     "data": {
      "text/html": [
       "<div>\n",
       "<style scoped>\n",
       "    .dataframe tbody tr th:only-of-type {\n",
       "        vertical-align: middle;\n",
       "    }\n",
       "\n",
       "    .dataframe tbody tr th {\n",
       "        vertical-align: top;\n",
       "    }\n",
       "\n",
       "    .dataframe thead th {\n",
       "        text-align: right;\n",
       "    }\n",
       "</style>\n",
       "<table border=\"1\" class=\"dataframe\">\n",
       "  <thead>\n",
       "    <tr style=\"text-align: right;\">\n",
       "      <th></th>\n",
       "      <th>叙事类型-个人叙事</th>\n",
       "      <th>叙事类型-非个人叙事</th>\n",
       "    </tr>\n",
       "  </thead>\n",
       "  <tbody>\n",
       "    <tr>\n",
       "      <th>0</th>\n",
       "      <td>11.0</td>\n",
       "      <td>83.0</td>\n",
       "    </tr>\n",
       "    <tr>\n",
       "      <th>1</th>\n",
       "      <td>39.0</td>\n",
       "      <td>72.0</td>\n",
       "    </tr>\n",
       "  </tbody>\n",
       "</table>\n",
       "</div>"
      ],
      "text/plain": [
       "   叙事类型-个人叙事  叙事类型-非个人叙事\n",
       "0       11.0        83.0\n",
       "1       39.0        72.0"
      ]
     },
     "execution_count": 147,
     "metadata": {},
     "output_type": "execute_result"
    }
   ],
   "source": [
    "cons_single = pd.DataFrame(columns=single)\n",
    "for i in range(2):\n",
    "    data = df[df['ncn']==i]\n",
    "    tmp = []\n",
    "    for j in single:\n",
    "        n = data[data[j]==1].shape[0] \n",
    "        tmp.append(n)\n",
    "\n",
    "    cons_single = cons_single.reindex(index=list(cons_single.index)+[i])\n",
    "    cons_single.loc[i] = tmp\n",
    "cons_single"
   ]
  },
  {
   "cell_type": "code",
   "execution_count": 148,
   "metadata": {},
   "outputs": [
    {
     "name": "stdout",
     "output_type": "stream",
     "text": [
      "(13.911069657509255, 0.00019166632205087805, 1)\n"
     ]
    }
   ],
   "source": [
    "f_obs = np.array([cons_single.iloc[0,:].values,cons_single.iloc[1,:].values])\n",
    "\n",
    "np.set_printoptions(suppress=True)\n",
    "print(stats.chi2_contingency(f_obs)[0:3]) # significant"
   ]
  },
  {
   "cell_type": "markdown",
   "metadata": {},
   "source": [
    "# frame1"
   ]
  },
  {
   "cell_type": "code",
   "execution_count": 163,
   "metadata": {},
   "outputs": [],
   "source": [
    "frame1_cons = pd.DataFrame(columns=frame1)\n",
    "for i in cons:\n",
    "    data = df[df[i]==1]\n",
    "    tmp = []\n",
    "    for j in frame1:\n",
    "        n = data[data[j]==1].shape[0] \n",
    "        tmp.append(n)\n",
    "\n",
    "\n",
    "    frame1_cons = frame1_cons.reindex(index=list(frame1_cons.index)+[i])\n",
    "    frame1_cons.loc[i] = tmp"
   ]
  },
  {
   "cell_type": "code",
   "execution_count": 164,
   "metadata": {},
   "outputs": [
    {
     "data": {
      "text/html": [
       "<div>\n",
       "<style scoped>\n",
       "    .dataframe tbody tr th:only-of-type {\n",
       "        vertical-align: middle;\n",
       "    }\n",
       "\n",
       "    .dataframe tbody tr th {\n",
       "        vertical-align: top;\n",
       "    }\n",
       "\n",
       "    .dataframe thead th {\n",
       "        text-align: right;\n",
       "    }\n",
       "</style>\n",
       "<table border=\"1\" class=\"dataframe\">\n",
       "  <thead>\n",
       "    <tr style=\"text-align: right;\">\n",
       "      <th></th>\n",
       "      <th>框架类型-情节框架（封城中的事件、故事和细节）</th>\n",
       "      <th>框架类型-议题框架</th>\n",
       "    </tr>\n",
       "  </thead>\n",
       "  <tbody>\n",
       "    <tr>\n",
       "      <th>建设性新闻-是否采取解决问题导向（如疫苗研制、政府援助、介绍社会各界的帮助和反应）</th>\n",
       "      <td>48.0</td>\n",
       "      <td>53.0</td>\n",
       "    </tr>\n",
       "    <tr>\n",
       "      <th>建设性新闻-是否强调公民赋权（如提供信息动员群众，为国家抗疫做贡献）</th>\n",
       "      <td>1.0</td>\n",
       "      <td>8.0</td>\n",
       "    </tr>\n",
       "    <tr>\n",
       "      <th>是否存在榜样/英雄叙事？（如疫情期间的小区送菜志愿者）</th>\n",
       "      <td>25.0</td>\n",
       "      <td>4.0</td>\n",
       "    </tr>\n",
       "    <tr>\n",
       "      <th>建设性新闻-是否出现未来导向（如，何时解除封城、未来疫情常态化）</th>\n",
       "      <td>3.0</td>\n",
       "      <td>12.0</td>\n",
       "    </tr>\n",
       "  </tbody>\n",
       "</table>\n",
       "</div>"
      ],
      "text/plain": [
       "                                           框架类型-情节框架（封城中的事件、故事和细节）  框架类型-议题框架\n",
       "建设性新闻-是否采取解决问题导向（如疫苗研制、政府援助、介绍社会各界的帮助和反应）                     48.0       53.0\n",
       "建设性新闻-是否强调公民赋权（如提供信息动员群众，为国家抗疫做贡献）                             1.0        8.0\n",
       "是否存在榜样/英雄叙事？（如疫情期间的小区送菜志愿者）                                   25.0        4.0\n",
       "建设性新闻-是否出现未来导向（如，何时解除封城、未来疫情常态化）                               3.0       12.0"
      ]
     },
     "execution_count": 164,
     "metadata": {},
     "output_type": "execute_result"
    }
   ],
   "source": [
    "frame1_cons"
   ]
  },
  {
   "cell_type": "code",
   "execution_count": 151,
   "metadata": {},
   "outputs": [
    {
     "data": {
      "text/html": [
       "<div>\n",
       "<style scoped>\n",
       "    .dataframe tbody tr th:only-of-type {\n",
       "        vertical-align: middle;\n",
       "    }\n",
       "\n",
       "    .dataframe tbody tr th {\n",
       "        vertical-align: top;\n",
       "    }\n",
       "\n",
       "    .dataframe thead th {\n",
       "        text-align: right;\n",
       "    }\n",
       "</style>\n",
       "<table border=\"1\" class=\"dataframe\">\n",
       "  <thead>\n",
       "    <tr style=\"text-align: right;\">\n",
       "      <th></th>\n",
       "      <th>框架类型-情节框架（封城中的事件、故事和细节）</th>\n",
       "      <th>框架类型-议题框架</th>\n",
       "    </tr>\n",
       "  </thead>\n",
       "  <tbody>\n",
       "    <tr>\n",
       "      <th>0</th>\n",
       "      <td>24.0</td>\n",
       "      <td>70.0</td>\n",
       "    </tr>\n",
       "    <tr>\n",
       "      <th>1</th>\n",
       "      <td>49.0</td>\n",
       "      <td>62.0</td>\n",
       "    </tr>\n",
       "  </tbody>\n",
       "</table>\n",
       "</div>"
      ],
      "text/plain": [
       "   框架类型-情节框架（封城中的事件、故事和细节）  框架类型-议题框架\n",
       "0                     24.0       70.0\n",
       "1                     49.0       62.0"
      ]
     },
     "execution_count": 151,
     "metadata": {},
     "output_type": "execute_result"
    }
   ],
   "source": [
    "frame1_cons = pd.DataFrame(columns=frame1)\n",
    "for i in range(2):\n",
    "    data = df[df['ncn']==i]\n",
    "    tmp = []\n",
    "    for j in frame1:\n",
    "        n = data[data[j]==1].shape[0] \n",
    "        tmp.append(n)\n",
    "    frame1_cons = frame1_cons.reindex(index=list(frame1_cons.index)+[i])\n",
    "    frame1_cons.loc[i] = tmp\n",
    "    \n",
    "frame1_cons"
   ]
  },
  {
   "cell_type": "code",
   "execution_count": 152,
   "metadata": {},
   "outputs": [
    {
     "name": "stdout",
     "output_type": "stream",
     "text": [
      "(6.899312582468006, 0.008622889900184186, 1)\n"
     ]
    }
   ],
   "source": [
    "f_obs = np.array([frame1_cons.iloc[0,:].values,frame1_cons.iloc[1,:].values])\n",
    "\n",
    "np.set_printoptions(suppress=True)\n",
    "print(stats.chi2_contingency(f_obs)[0:3]) # significant"
   ]
  },
  {
   "cell_type": "markdown",
   "metadata": {},
   "source": [
    "# frame2"
   ]
  },
  {
   "cell_type": "code",
   "execution_count": 154,
   "metadata": {},
   "outputs": [
    {
     "data": {
      "text/html": [
       "<div>\n",
       "<style scoped>\n",
       "    .dataframe tbody tr th:only-of-type {\n",
       "        vertical-align: middle;\n",
       "    }\n",
       "\n",
       "    .dataframe tbody tr th {\n",
       "        vertical-align: top;\n",
       "    }\n",
       "\n",
       "    .dataframe thead th {\n",
       "        text-align: right;\n",
       "    }\n",
       "</style>\n",
       "<table border=\"1\" class=\"dataframe\">\n",
       "  <thead>\n",
       "    <tr style=\"text-align: right;\">\n",
       "      <th></th>\n",
       "      <th>框架类型-界定问题（对相关国家与地方法规的说明和分析）</th>\n",
       "      <th>框架类型-（封城的）原因阐释</th>\n",
       "      <th>框架类型-后果阐释（指“封城”引发的后续事件或行为，包括供应链变动、股市变动等现象）</th>\n",
       "      <th>框架类型-处理建议（对市民的建议和提供帮助的渠道介绍）</th>\n",
       "      <th>框架类型-道德评估（对社会各界反应的评论等）</th>\n",
       "      <th>框架类型-历史背景（指近期或远期的相关事件和历史）</th>\n",
       "    </tr>\n",
       "  </thead>\n",
       "  <tbody>\n",
       "    <tr>\n",
       "      <th>建设性新闻-是否采取解决问题导向（如疫苗研制、政府援助、介绍社会各界的帮助和反应）</th>\n",
       "      <td>17.0</td>\n",
       "      <td>1.0</td>\n",
       "      <td>55.0</td>\n",
       "      <td>6.0</td>\n",
       "      <td>19.0</td>\n",
       "      <td>3.0</td>\n",
       "    </tr>\n",
       "    <tr>\n",
       "      <th>建设性新闻-是否强调公民赋权（如提供信息动员群众，为国家抗疫做贡献）</th>\n",
       "      <td>3.0</td>\n",
       "      <td>0.0</td>\n",
       "      <td>3.0</td>\n",
       "      <td>2.0</td>\n",
       "      <td>1.0</td>\n",
       "      <td>0.0</td>\n",
       "    </tr>\n",
       "    <tr>\n",
       "      <th>是否存在榜样/英雄叙事？（如疫情期间的小区送菜志愿者）</th>\n",
       "      <td>1.0</td>\n",
       "      <td>0.0</td>\n",
       "      <td>22.0</td>\n",
       "      <td>1.0</td>\n",
       "      <td>4.0</td>\n",
       "      <td>1.0</td>\n",
       "    </tr>\n",
       "    <tr>\n",
       "      <th>建设性新闻-是否出现未来导向（如，何时解除封城、未来疫情常态化）</th>\n",
       "      <td>1.0</td>\n",
       "      <td>0.0</td>\n",
       "      <td>9.0</td>\n",
       "      <td>5.0</td>\n",
       "      <td>0.0</td>\n",
       "      <td>0.0</td>\n",
       "    </tr>\n",
       "  </tbody>\n",
       "</table>\n",
       "</div>"
      ],
      "text/plain": [
       "                                           框架类型-界定问题（对相关国家与地方法规的说明和分析）  \\\n",
       "建设性新闻-是否采取解决问题导向（如疫苗研制、政府援助、介绍社会各界的帮助和反应）                         17.0   \n",
       "建设性新闻-是否强调公民赋权（如提供信息动员群众，为国家抗疫做贡献）                                 3.0   \n",
       "是否存在榜样/英雄叙事？（如疫情期间的小区送菜志愿者）                                        1.0   \n",
       "建设性新闻-是否出现未来导向（如，何时解除封城、未来疫情常态化）                                   1.0   \n",
       "\n",
       "                                           框架类型-（封城的）原因阐释  \\\n",
       "建设性新闻-是否采取解决问题导向（如疫苗研制、政府援助、介绍社会各界的帮助和反应）             1.0   \n",
       "建设性新闻-是否强调公民赋权（如提供信息动员群众，为国家抗疫做贡献）                    0.0   \n",
       "是否存在榜样/英雄叙事？（如疫情期间的小区送菜志愿者）                           0.0   \n",
       "建设性新闻-是否出现未来导向（如，何时解除封城、未来疫情常态化）                      0.0   \n",
       "\n",
       "                                           框架类型-后果阐释（指“封城”引发的后续事件或行为，包括供应链变动、股市变动等现象）  \\\n",
       "建设性新闻-是否采取解决问题导向（如疫苗研制、政府援助、介绍社会各界的帮助和反应）                                        55.0   \n",
       "建设性新闻-是否强调公民赋权（如提供信息动员群众，为国家抗疫做贡献）                                                3.0   \n",
       "是否存在榜样/英雄叙事？（如疫情期间的小区送菜志愿者）                                                      22.0   \n",
       "建设性新闻-是否出现未来导向（如，何时解除封城、未来疫情常态化）                                                  9.0   \n",
       "\n",
       "                                           框架类型-处理建议（对市民的建议和提供帮助的渠道介绍）  \\\n",
       "建设性新闻-是否采取解决问题导向（如疫苗研制、政府援助、介绍社会各界的帮助和反应）                          6.0   \n",
       "建设性新闻-是否强调公民赋权（如提供信息动员群众，为国家抗疫做贡献）                                 2.0   \n",
       "是否存在榜样/英雄叙事？（如疫情期间的小区送菜志愿者）                                        1.0   \n",
       "建设性新闻-是否出现未来导向（如，何时解除封城、未来疫情常态化）                                   5.0   \n",
       "\n",
       "                                           框架类型-道德评估（对社会各界反应的评论等）  \\\n",
       "建设性新闻-是否采取解决问题导向（如疫苗研制、政府援助、介绍社会各界的帮助和反应）                    19.0   \n",
       "建设性新闻-是否强调公民赋权（如提供信息动员群众，为国家抗疫做贡献）                            1.0   \n",
       "是否存在榜样/英雄叙事？（如疫情期间的小区送菜志愿者）                                   4.0   \n",
       "建设性新闻-是否出现未来导向（如，何时解除封城、未来疫情常态化）                              0.0   \n",
       "\n",
       "                                           框架类型-历史背景（指近期或远期的相关事件和历史）  \n",
       "建设性新闻-是否采取解决问题导向（如疫苗研制、政府援助、介绍社会各界的帮助和反应）                        3.0  \n",
       "建设性新闻-是否强调公民赋权（如提供信息动员群众，为国家抗疫做贡献）                               0.0  \n",
       "是否存在榜样/英雄叙事？（如疫情期间的小区送菜志愿者）                                      1.0  \n",
       "建设性新闻-是否出现未来导向（如，何时解除封城、未来疫情常态化）                                 0.0  "
      ]
     },
     "execution_count": 154,
     "metadata": {},
     "output_type": "execute_result"
    }
   ],
   "source": [
    "frame2_cons = pd.DataFrame(columns=frame2)\n",
    "for i in cons:\n",
    "    data = df[df[i]==1]\n",
    "    tmp = []\n",
    "    for j in frame2:\n",
    "        n = data[data[j]==1].shape[0] \n",
    "        tmp.append(n)\n",
    "\n",
    "\n",
    "    frame2_cons = frame2_cons.reindex(index=list(frame2_cons.index)+[i])\n",
    "    frame2_cons.loc[i] = tmp\n",
    "frame2_cons"
   ]
  },
  {
   "cell_type": "code",
   "execution_count": 155,
   "metadata": {},
   "outputs": [
    {
     "data": {
      "text/html": [
       "<div>\n",
       "<style scoped>\n",
       "    .dataframe tbody tr th:only-of-type {\n",
       "        vertical-align: middle;\n",
       "    }\n",
       "\n",
       "    .dataframe tbody tr th {\n",
       "        vertical-align: top;\n",
       "    }\n",
       "\n",
       "    .dataframe thead th {\n",
       "        text-align: right;\n",
       "    }\n",
       "</style>\n",
       "<table border=\"1\" class=\"dataframe\">\n",
       "  <thead>\n",
       "    <tr style=\"text-align: right;\">\n",
       "      <th></th>\n",
       "      <th>框架类型-界定问题（对相关国家与地方法规的说明和分析）</th>\n",
       "      <th>框架类型-（封城的）原因阐释</th>\n",
       "      <th>框架类型-后果阐释（指“封城”引发的后续事件或行为，包括供应链变动、股市变动等现象）</th>\n",
       "      <th>框架类型-处理建议（对市民的建议和提供帮助的渠道介绍）</th>\n",
       "      <th>框架类型-道德评估（对社会各界反应的评论等）</th>\n",
       "      <th>框架类型-历史背景（指近期或远期的相关事件和历史）</th>\n",
       "    </tr>\n",
       "  </thead>\n",
       "  <tbody>\n",
       "    <tr>\n",
       "      <th>0</th>\n",
       "      <td>27.0</td>\n",
       "      <td>1.0</td>\n",
       "      <td>54.0</td>\n",
       "      <td>4.0</td>\n",
       "      <td>6.0</td>\n",
       "      <td>2.0</td>\n",
       "    </tr>\n",
       "    <tr>\n",
       "      <th>1</th>\n",
       "      <td>17.0</td>\n",
       "      <td>1.0</td>\n",
       "      <td>61.0</td>\n",
       "      <td>9.0</td>\n",
       "      <td>20.0</td>\n",
       "      <td>3.0</td>\n",
       "    </tr>\n",
       "  </tbody>\n",
       "</table>\n",
       "</div>"
      ],
      "text/plain": [
       "   框架类型-界定问题（对相关国家与地方法规的说明和分析）  框架类型-（封城的）原因阐释  \\\n",
       "0                         27.0             1.0   \n",
       "1                         17.0             1.0   \n",
       "\n",
       "   框架类型-后果阐释（指“封城”引发的后续事件或行为，包括供应链变动、股市变动等现象）  框架类型-处理建议（对市民的建议和提供帮助的渠道介绍）  \\\n",
       "0                                        54.0                          4.0   \n",
       "1                                        61.0                          9.0   \n",
       "\n",
       "   框架类型-道德评估（对社会各界反应的评论等）  框架类型-历史背景（指近期或远期的相关事件和历史）  \n",
       "0                     6.0                        2.0  \n",
       "1                    20.0                        3.0  "
      ]
     },
     "execution_count": 155,
     "metadata": {},
     "output_type": "execute_result"
    }
   ],
   "source": [
    "frame2_cons = pd.DataFrame(columns=frame2)\n",
    "for i in range(2):\n",
    "    data = df[df['ncn']==i]\n",
    "    tmp = []\n",
    "    for j in frame2:\n",
    "        n = data[data[j]==1].shape[0] \n",
    "        tmp.append(n)\n",
    "    frame2_cons = frame2_cons.reindex(index=list(frame2_cons.index)+[i])\n",
    "    frame2_cons.loc[i] = tmp\n",
    "    \n",
    "frame2_cons"
   ]
  },
  {
   "cell_type": "code",
   "execution_count": 156,
   "metadata": {},
   "outputs": [
    {
     "name": "stdout",
     "output_type": "stream",
     "text": [
      "(10.3099503434243, 0.016107118575480448, 3)\n"
     ]
    }
   ],
   "source": [
    "a = [27,55,6,6]\n",
    "b = [18,61,12,20]\n",
    "f_obs = np.array([a,b])\n",
    "\n",
    "np.set_printoptions(suppress=True)\n",
    "print(stats.chi2_contingency(f_obs)[0:3]) # significant"
   ]
  },
  {
   "cell_type": "markdown",
   "metadata": {},
   "source": [
    "# others"
   ]
  },
  {
   "cell_type": "code",
   "execution_count": 10,
   "metadata": {},
   "outputs": [],
   "source": [
    "home_single = pd.DataFrame(columns=home)\n",
    "for i in single:\n",
    "    data = df[df[i]==1]\n",
    "    tmp = []\n",
    "    for j in home:\n",
    "        n = data[data[j]==1].shape[0] \n",
    "        tmp.append(n)\n",
    "\n",
    "\n",
    "    home_single = home_single.reindex(index=list(home_single.index)+[i])\n",
    "    home_single.loc[i] = tmp"
   ]
  },
  {
   "cell_type": "code",
   "execution_count": 260,
   "metadata": {},
   "outputs": [
    {
     "data": {
      "text/html": [
       "<div>\n",
       "<style scoped>\n",
       "    .dataframe tbody tr th:only-of-type {\n",
       "        vertical-align: middle;\n",
       "    }\n",
       "\n",
       "    .dataframe tbody tr th {\n",
       "        vertical-align: top;\n",
       "    }\n",
       "\n",
       "    .dataframe thead th {\n",
       "        text-align: right;\n",
       "    }\n",
       "</style>\n",
       "<table border=\"1\" class=\"dataframe\">\n",
       "  <thead>\n",
       "    <tr style=\"text-align: right;\">\n",
       "      <th></th>\n",
       "      <th>封城地点-国外</th>\n",
       "      <th>封城地点-国内</th>\n",
       "    </tr>\n",
       "  </thead>\n",
       "  <tbody>\n",
       "    <tr>\n",
       "      <th>叙事类型-个人叙事</th>\n",
       "      <td>0.0</td>\n",
       "      <td>49.0</td>\n",
       "    </tr>\n",
       "    <tr>\n",
       "      <th>叙事类型-非个人叙事</th>\n",
       "      <td>17.0</td>\n",
       "      <td>140.0</td>\n",
       "    </tr>\n",
       "  </tbody>\n",
       "</table>\n",
       "</div>"
      ],
      "text/plain": [
       "            封城地点-国外  封城地点-国内\n",
       "叙事类型-个人叙事       0.0     49.0\n",
       "叙事类型-非个人叙事     17.0    140.0"
      ]
     },
     "execution_count": 260,
     "metadata": {},
     "output_type": "execute_result"
    }
   ],
   "source": [
    "home_single"
   ]
  },
  {
   "cell_type": "code",
   "execution_count": 263,
   "metadata": {},
   "outputs": [
    {
     "data": {
      "image/png": "[encoded data removed]",
      "text/plain": [
       "<Figure size 720x360 with 1 Axes>"
      ]
     },
     "metadata": {},
     "output_type": "display_data"
    }
   ],
   "source": [
    "#Assigns the frequency values\n",
    "nc = tone_cons.iloc[0][0:3].values\n",
    "c = tone_cons.iloc[1][0:3].values\n",
    "\n",
    "#Plots the bar chart\n",
    "fig = plt.figure(figsize=(10, 5))\n",
    "sns.set(font_scale=1.8)\n",
    "categories = ['positive','neutral','negative']\n",
    "p1 = plt.bar(categories, sin, 0.55)\n",
    "p2 = plt.bar(categories, nonsin, 0.55, bottom=sin)\n",
    "plt.legend((p2[0], p1[0]), ('non-constructive', 'constructive'))\n",
    "plt.xlabel('tone in news')\n",
    "plt.ylabel('Count')\n",
    "plt.show()\n",
    "#存在公关文等 "
   ]
  },
  {
   "cell_type": "code",
   "execution_count": 11,
   "metadata": {},
   "outputs": [],
   "source": [
    "cons_single = pd.DataFrame(columns=cons)\n",
    "for i in single:\n",
    "    data = df[df[i]==1]\n",
    "    tmp = []\n",
    "    for j in cons:\n",
    "        n = data[data[j]==1].shape[0] \n",
    "        tmp.append(n)\n",
    "\n",
    "\n",
    "    cons_single = cons_single.reindex(index=list(cons_single.index)+[i])\n",
    "    cons_single.loc[i] = tmp"
   ]
  },
  {
   "cell_type": "code",
   "execution_count": 12,
   "metadata": {},
   "outputs": [
    {
     "data": {
      "text/html": [
       "<div>\n",
       "<style scoped>\n",
       "    .dataframe tbody tr th:only-of-type {\n",
       "        vertical-align: middle;\n",
       "    }\n",
       "\n",
       "    .dataframe tbody tr th {\n",
       "        vertical-align: top;\n",
       "    }\n",
       "\n",
       "    .dataframe thead th {\n",
       "        text-align: right;\n",
       "    }\n",
       "</style>\n",
       "<table border=\"1\" class=\"dataframe\">\n",
       "  <thead>\n",
       "    <tr style=\"text-align: right;\">\n",
       "      <th></th>\n",
       "      <th>建设性新闻-是否采取解决问题导向（如疫苗研制、政府援助、介绍社会各界的帮助和反应）</th>\n",
       "      <th>建设性新闻-是否强调公民赋权（如提供信息动员群众，为国家抗疫做贡献）</th>\n",
       "      <th>是否存在榜样/英雄叙事？（如疫情期间的小区送菜志愿者）</th>\n",
       "      <th>建设性新闻-是否出现未来导向（如，何时解除封城、未来疫情常态化）</th>\n",
       "    </tr>\n",
       "  </thead>\n",
       "  <tbody>\n",
       "    <tr>\n",
       "      <th>叙事类型-个人叙事</th>\n",
       "      <td>36.0</td>\n",
       "      <td>2.0</td>\n",
       "      <td>22.0</td>\n",
       "      <td>3.0</td>\n",
       "    </tr>\n",
       "    <tr>\n",
       "      <th>叙事类型-非个人叙事</th>\n",
       "      <td>64.0</td>\n",
       "      <td>7.0</td>\n",
       "      <td>7.0</td>\n",
       "      <td>12.0</td>\n",
       "    </tr>\n",
       "  </tbody>\n",
       "</table>\n",
       "</div>"
      ],
      "text/plain": [
       "            建设性新闻-是否采取解决问题导向（如疫苗研制、政府援助、介绍社会各界的帮助和反应）  \\\n",
       "叙事类型-个人叙事                                        36.0   \n",
       "叙事类型-非个人叙事                                       64.0   \n",
       "\n",
       "            建设性新闻-是否强调公民赋权（如提供信息动员群众，为国家抗疫做贡献）  是否存在榜样/英雄叙事？（如疫情期间的小区送菜志愿者）  \\\n",
       "叙事类型-个人叙事                                  2.0                         22.0   \n",
       "叙事类型-非个人叙事                                 7.0                          7.0   \n",
       "\n",
       "            建设性新闻-是否出现未来导向（如，何时解除封城、未来疫情常态化）  \n",
       "叙事类型-个人叙事                                3.0  \n",
       "叙事类型-非个人叙事                              12.0  "
      ]
     },
     "execution_count": 12,
     "metadata": {},
     "output_type": "execute_result"
    }
   ],
   "source": [
    "cons_single"
   ]
  },
  {
   "cell_type": "code",
   "execution_count": 13,
   "metadata": {},
   "outputs": [],
   "source": [
    "import matplotlib\n",
    "matplotlib.matplotlib_fname() #将会获得matplotlib包所在文件夹\n",
    "from matplotlib.font_manager import _rebuild\n",
    "\n",
    "_rebuild()"
   ]
  },
  {
   "cell_type": "code",
   "execution_count": 18,
   "metadata": {
    "scrolled": true
   },
   "outputs": [
    {
     "name": "stderr",
     "output_type": "stream",
     "text": [
      "/anaconda3/lib/python3.6/site-packages/matplotlib/backends/backend_agg.py:214: RuntimeWarning: Glyph 24314 missing from current font.\n",
      "  font.set_text(s, 0.0, flags=flags)\n",
      "/anaconda3/lib/python3.6/site-packages/matplotlib/backends/backend_agg.py:214: RuntimeWarning: Glyph 35774 missing from current font.\n",
      "  font.set_text(s, 0.0, flags=flags)\n",
      "/anaconda3/lib/python3.6/site-packages/matplotlib/backends/backend_agg.py:214: RuntimeWarning: Glyph 24615 missing from current font.\n",
      "  font.set_text(s, 0.0, flags=flags)\n",
      "/anaconda3/lib/python3.6/site-packages/matplotlib/backends/backend_agg.py:214: RuntimeWarning: Glyph 26032 missing from current font.\n",
      "  font.set_text(s, 0.0, flags=flags)\n",
      "/anaconda3/lib/python3.6/site-packages/matplotlib/backends/backend_agg.py:214: RuntimeWarning: Glyph 38395 missing from current font.\n",
      "  font.set_text(s, 0.0, flags=flags)\n",
      "/anaconda3/lib/python3.6/site-packages/matplotlib/backends/backend_agg.py:214: RuntimeWarning: Glyph 29305 missing from current font.\n",
      "  font.set_text(s, 0.0, flags=flags)\n",
      "/anaconda3/lib/python3.6/site-packages/matplotlib/backends/backend_agg.py:214: RuntimeWarning: Glyph 24449 missing from current font.\n",
      "  font.set_text(s, 0.0, flags=flags)\n",
      "/anaconda3/lib/python3.6/site-packages/matplotlib/backends/backend_agg.py:183: RuntimeWarning: Glyph 24314 missing from current font.\n",
      "  font.set_text(s, 0, flags=flags)\n",
      "/anaconda3/lib/python3.6/site-packages/matplotlib/backends/backend_agg.py:183: RuntimeWarning: Glyph 35774 missing from current font.\n",
      "  font.set_text(s, 0, flags=flags)\n",
      "/anaconda3/lib/python3.6/site-packages/matplotlib/backends/backend_agg.py:183: RuntimeWarning: Glyph 24615 missing from current font.\n",
      "  font.set_text(s, 0, flags=flags)\n",
      "/anaconda3/lib/python3.6/site-packages/matplotlib/backends/backend_agg.py:183: RuntimeWarning: Glyph 26032 missing from current font.\n",
      "  font.set_text(s, 0, flags=flags)\n",
      "/anaconda3/lib/python3.6/site-packages/matplotlib/backends/backend_agg.py:183: RuntimeWarning: Glyph 38395 missing from current font.\n",
      "  font.set_text(s, 0, flags=flags)\n",
      "/anaconda3/lib/python3.6/site-packages/matplotlib/backends/backend_agg.py:183: RuntimeWarning: Glyph 29305 missing from current font.\n",
      "  font.set_text(s, 0, flags=flags)\n",
      "/anaconda3/lib/python3.6/site-packages/matplotlib/backends/backend_agg.py:183: RuntimeWarning: Glyph 24449 missing from current font.\n",
      "  font.set_text(s, 0, flags=flags)\n"
     ]
    },
    {
     "data": {
      "image/png": "[encoded data removed]",
      "text/plain": [
       "<Figure size 720x360 with 1 Axes>"
      ]
     },
     "metadata": {},
     "output_type": "display_data"
    }
   ],
   "source": [
    "#Assigns the frequency values\n",
    "sin = cons_single.iloc[0][0:4].values\n",
    "nonsin = cons_single.iloc[1][0:4].values\n",
    "\n",
    "\n",
    "#Plots the bar chart\n",
    "fig = plt.figure(figsize=(10, 5))\n",
    "sns.set(font_scale=1.8)\n",
    "categories = ['solution','mobilization','hero','future']\n",
    "p1 = plt.bar(categories, sin, 0.55)\n",
    "p2 = plt.bar(categories, nonsin, 0.55, bottom=sin)\n",
    "plt.legend((p2[0], p1[0]), ('non-single', 'single'))\n",
    "plt.xlabel(u'建设性新闻特征')\n",
    "plt.ylabel('Count')\n",
    "plt.show()"
   ]
  }
 ],
 "metadata": {
  "kernelspec": {
   "display_name": "Python 3",
   "language": "python",
   "name": "python3"
  },
  "language_info": {
   "codemirror_mode": {
    "name": "ipython",
    "version": 3
   },
   "file_extension": ".py",
   "mimetype": "text/x-python",
   "name": "python",
   "nbconvert_exporter": "python",
   "pygments_lexer": "ipython3",
   "version": "3.6.8"
  }
 },
 "nbformat": 4,
 "nbformat_minor": 2
}
